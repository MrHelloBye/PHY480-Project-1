{
 "cells": [
  {
   "cell_type": "markdown",
   "metadata": {},
   "source": [
    "# This notebook contains Timing for the codes written for this project"
   ]
  },
  {
   "cell_type": "code",
   "execution_count": 9,
   "metadata": {},
   "outputs": [],
   "source": [
    "from __future__ import print_function, division   \n",
    "import numpy as np\n",
    "import matplotlib.pyplot as plt\n",
    "import scipy.linalg as linalg\n",
    "import time\n",
    "from numba import njit, prange\n",
    "%matplotlib inline"
   ]
  },
  {
   "cell_type": "code",
   "execution_count": 10,
   "metadata": {},
   "outputs": [],
   "source": [
    "def LU_solve(n):\n",
    "    dim = n\n",
    "    h = 1/dim\n",
    "    matrix = np.zeros((dim,dim))\n",
    "    a = -np.ones(dim)\n",
    "    a[0] = 0\n",
    "    b = 2*np.ones(dim)\n",
    "    c = -np.ones(dim)\n",
    "    c[-1] = 0    \n",
    "    f = np.ones(dim)\n",
    "    j = 0\n",
    "    while j <= dim-1:\n",
    "        f[j] = 100*np.exp(-10*j*h)*h**2\n",
    "        j += 1\n",
    "    for x in range(0, dim):\n",
    "        matrix[x][x] = 2.0\n",
    "    for x in range(1, dim):\n",
    "        matrix[x][x-1] = -1.0  \n",
    "    for x in range(0, dim-1):\n",
    "        matrix[x][x+1] = -1.0\n",
    "    start = time.perf_counter()\n",
    "    LU = linalg.lu_factor(matrix)\n",
    "    x = linalg.lu_solve(LU, f)\n",
    "    end = time.perf_counter()\n",
    "    print(end - start)"
   ]
  },
  {
   "cell_type": "code",
   "execution_count": null,
   "metadata": {},
   "outputs": [],
   "source": [
    "LU_solve_time = []\n",
    "LU_solve(10)"
   ]
  },
  {
   "cell_type": "code",
   "execution_count": 4,
   "metadata": {
    "scrolled": false
   },
   "outputs": [],
   "source": [
    "def Lin_alg(n):\n",
    "    dim = n\n",
    "    A = 2*np.diag(np.ones(dim)) -np.diag(np.ones(dim-1), 1) - np.diag(np.ones(dim-1), -1)\n",
    "    \n",
    "    f = np.ones(dim)\n",
    "    j = 0\n",
    "    h = 1/dim\n",
    "    while j < dim:\n",
    "        f[j] = 100*np.exp(-10*j*h)*h**2\n",
    "        j+=1\n",
    "        \n",
    "    a = np.linalg.solve(A,f)\n",
    "    a[0]=0\n",
    "    a[-1] =0\n",
    "    \n",
    "    return a"
   ]
  },
  {
   "cell_type": "code",
   "execution_count": 5,
   "metadata": {},
   "outputs": [],
   "source": [
    "def tridag(n):\n",
    "    dim = n\n",
    "    h = 1/dim\n",
    "    d = np.ones(dim+1)\n",
    "    b = np.ones(dim+1)\n",
    "    sol = np.ones(dim+1)\n",
    "    d[0]=2\n",
    "    d[dim]=2\n",
    "    sol[0]=0\n",
    "    sol[dim]=0\n",
    "    \n",
    "    i = 1\n",
    "    while i < dim:\n",
    "        d[i] = (i+1.)/i\n",
    "        i+=1\n",
    "    j = 0    \n",
    "    while j <= dim:\n",
    "        b[j] = 100*np.exp(-10*j*h)*h**2\n",
    "        j+=1\n",
    "    \n",
    "    for i in range(2,dim):\n",
    "        b[i] = b[i] + (b[i-1]/d[i-1])\n",
    "        \n",
    "    sol[dim-1] = b[dim-1]/d[dim-1]\n",
    "    \n",
    "    for j in range(dim-2,0,-1):\n",
    "        sol[j] = (b[j]+sol[j+1])/d[j]\n",
    "        \n",
    "    return sol"
   ]
  },
  {
   "cell_type": "code",
   "execution_count": 6,
   "metadata": {},
   "outputs": [
    {
     "ename": "NameError",
     "evalue": "name 'njit' is not defined",
     "output_type": "error",
     "traceback": [
      "\u001b[0;31m---------------------------------------------------------------------------\u001b[0m",
      "\u001b[0;31mNameError\u001b[0m                                 Traceback (most recent call last)",
      "\u001b[0;32m<ipython-input-6-9591c311d8f2>\u001b[0m in \u001b[0;36m<module>\u001b[0;34m()\u001b[0m\n\u001b[0;32m----> 1\u001b[0;31m \u001b[0;34m@\u001b[0m\u001b[0mnjit\u001b[0m\u001b[0;34m(\u001b[0m\u001b[0mparallel\u001b[0m \u001b[0;34m=\u001b[0m \u001b[0;32mTrue\u001b[0m\u001b[0;34m)\u001b[0m\u001b[0;34m\u001b[0m\u001b[0m\n\u001b[0m\u001b[1;32m      2\u001b[0m \u001b[0;32mdef\u001b[0m \u001b[0mtridag_numba\u001b[0m\u001b[0;34m(\u001b[0m\u001b[0mn\u001b[0m\u001b[0;34m)\u001b[0m\u001b[0;34m:\u001b[0m\u001b[0;34m\u001b[0m\u001b[0m\n\u001b[1;32m      3\u001b[0m     \u001b[0mdim\u001b[0m \u001b[0;34m=\u001b[0m \u001b[0mn\u001b[0m\u001b[0;34m\u001b[0m\u001b[0m\n\u001b[1;32m      4\u001b[0m     \u001b[0mh\u001b[0m \u001b[0;34m=\u001b[0m \u001b[0;36m1\u001b[0m\u001b[0;34m/\u001b[0m\u001b[0mdim\u001b[0m\u001b[0;34m\u001b[0m\u001b[0m\n\u001b[1;32m      5\u001b[0m     \u001b[0md\u001b[0m \u001b[0;34m=\u001b[0m \u001b[0mnp\u001b[0m\u001b[0;34m.\u001b[0m\u001b[0mones\u001b[0m\u001b[0;34m(\u001b[0m\u001b[0mdim\u001b[0m\u001b[0;34m+\u001b[0m\u001b[0;36m1\u001b[0m\u001b[0;34m)\u001b[0m\u001b[0;34m\u001b[0m\u001b[0m\n",
      "\u001b[0;31mNameError\u001b[0m: name 'njit' is not defined"
     ]
    }
   ],
   "source": [
    "@njit(parallel = True)\n",
    "def tridag_numba(n):\n",
    "    dim = n\n",
    "    h = 1/dim\n",
    "    d = np.ones(dim+1)\n",
    "    b = np.ones(dim+1)\n",
    "    sol = np.ones(dim+1)\n",
    "    x = np.ones(dim+1)\n",
    "    d[0]=2\n",
    "    d[dim]=2\n",
    "    sol[0]=0\n",
    "    sol[dim]=0\n",
    "    \n",
    "    i = 1\n",
    "    while i < dim:\n",
    "        d[i] = (i+1.)/i\n",
    "        i+=1\n",
    "    j = 0    \n",
    "    while j <= dim:\n",
    "        x[j] = j*h\n",
    "        b[j] = 100*np.exp(-10*x[j])*h**2\n",
    "        j+=1\n",
    "    \n",
    "    for i in prange(2,dim):\n",
    "        b[i] = b[i] + (b[i-1]/d[i-1])\n",
    "    sol[dim-1] = b[dim-1]/d[dim-1]\n",
    "    for j in range(dim-2,0,-1):\n",
    "        sol[j] = (b[j]+sol[j+1])/d[j]\n",
    "        \n",
    "    return sol"
   ]
  },
  {
   "cell_type": "code",
   "execution_count": null,
   "metadata": {},
   "outputs": [],
   "source": []
  },
  {
   "cell_type": "code",
   "execution_count": 8,
   "metadata": {},
   "outputs": [],
   "source": [
    "#General Algorithm!\n",
    "def TriSolve(a,b,c,f,dim):\n",
    "    u = np.zeros(dim)\n",
    "    for i in range(1, dim):\n",
    "        b[i] -= a[i]*c[i-1]/b[i-1]\n",
    "        f[i] -= a[i]*f[i-1]/b[i-1]\n",
    "    u[-1] = f[-1]/b[-1]\n",
    "    for i in range(dim-1,0,-1):\n",
    "        u[i-1] = (f[i-1] - c[i-1]*u[i])/b[i-1]\n",
    "    return u\n",
    "\n",
    "def main():\n",
    "    dim = 100\n",
    "    h = 1/dim\n",
    "    a = -np.ones(dim)\n",
    "    a[0] = 0\n",
    "    b = 2*np.ones(dim)\n",
    "    c = -np.ones(dim)\n",
    "    c[-1] = 0    \n",
    "    f = np.ones(dim)\n",
    "    j = 0\n",
    "    while j <= dim-1:\n",
    "        f[j] = 100*np.exp(-10*j*h)*h**2\n",
    "        j += 1\n",
    "\n",
    "    start = time.perf_counter()   \n",
    "    calculated = TriSolve(a,b,c,f,dim)\n",
    "    end = time.perf_counter()\n",
    "    print(end - start)"
   ]
  },
  {
   "cell_type": "code",
   "execution_count": null,
   "metadata": {},
   "outputs": [],
   "source": []
  },
  {
   "cell_type": "code",
   "execution_count": null,
   "metadata": {},
   "outputs": [],
   "source": []
  }
 ],
 "metadata": {
  "kernelspec": {
   "display_name": "Python 3",
   "language": "python",
   "name": "python3"
  },
  "language_info": {
   "codemirror_mode": {
    "name": "ipython",
    "version": 3
   },
   "file_extension": ".py",
   "mimetype": "text/x-python",
   "name": "python",
   "nbconvert_exporter": "python",
   "pygments_lexer": "ipython3",
   "version": "3.6.3"
  }
 },
 "nbformat": 4,
 "nbformat_minor": 2
}
