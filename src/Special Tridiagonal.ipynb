{
 "cells": [
  {
   "cell_type": "code",
   "execution_count": 2,
   "metadata": {},
   "outputs": [],
   "source": [
    "import numpy as np\n",
    "from numba import jit,njit,prange\n",
    "import time\n",
    "import matplotlib.pyplot as plt\n",
    "%matplotlib inline"
   ]
  },
  {
   "cell_type": "code",
   "execution_count": 3,
   "metadata": {},
   "outputs": [],
   "source": [
    "def dumb(n):\n",
    "    dim = n\n",
    "    A = 2*np.diag(np.ones(dim)) -np.diag(np.ones(dim-1), 1) - np.diag(np.ones(dim-1), -1)\n",
    "    \n",
    "    f = np.ones(dim)\n",
    "    j = 0\n",
    "    h = 1/dim\n",
    "    while j < dim:\n",
    "        f[j] = 100*np.exp(-10*j*h)*h**2\n",
    "        j+=1\n",
    "        \n",
    "    a = np.linalg.solve(A,f)\n",
    "    a[0]=0\n",
    "    a[-1] =0\n",
    "    \n",
    "    return a"
   ]
  },
  {
   "cell_type": "code",
   "execution_count": 3,
   "metadata": {},
   "outputs": [
    {
     "data": {
      "text/plain": [
       "array([ 0.        ,  1.70893369,  1.69552109,  1.54677321,  1.34823826,\n",
       "        1.13138767,  0.90779913,  0.68173184,  0.45475267,  0.        ])"
      ]
     },
     "execution_count": 3,
     "metadata": {},
     "output_type": "execute_result"
    }
   ],
   "source": [
    "dumb(10)"
   ]
  },
  {
   "cell_type": "code",
   "execution_count": 4,
   "metadata": {},
   "outputs": [
    {
     "name": "stdout",
     "output_type": "stream",
     "text": [
      "The slowest run took 4.14 times longer than the fastest. This could mean that an intermediate result is being cached.\n",
      "10000 loops, best of 3: 54.7 µs per loop\n"
     ]
    }
   ],
   "source": [
    "%timeit dumb(10)"
   ]
  },
  {
   "cell_type": "code",
   "execution_count": 5,
   "metadata": {},
   "outputs": [
    {
     "name": "stdout",
     "output_type": "stream",
     "text": [
      "1000 loops, best of 3: 405 µs per loop\n"
     ]
    }
   ],
   "source": [
    "%timeit dumb(100)"
   ]
  },
  {
   "cell_type": "code",
   "execution_count": 6,
   "metadata": {},
   "outputs": [
    {
     "name": "stdout",
     "output_type": "stream",
     "text": [
      "10 loops, best of 3: 38.1 ms per loop\n"
     ]
    }
   ],
   "source": [
    "%timeit dumb(1000)"
   ]
  },
  {
   "cell_type": "code",
   "execution_count": 7,
   "metadata": {
    "scrolled": true
   },
   "outputs": [
    {
     "name": "stdout",
     "output_type": "stream",
     "text": [
      "1 loop, best of 3: 16.8 s per loop\n"
     ]
    }
   ],
   "source": [
    "%timeit dumb(10000)"
   ]
  },
  {
   "cell_type": "code",
   "execution_count": 4,
   "metadata": {},
   "outputs": [],
   "source": [
    "def tridag(n):\n",
    "    dim = n\n",
    "    h = 1/dim\n",
    "    d = np.ones(dim+1)\n",
    "    b = np.ones(dim+1)\n",
    "    sol = np.ones(dim+1)\n",
    "    d[0]=2\n",
    "    d[dim]=2\n",
    "    sol[0]=0\n",
    "    sol[dim]=0\n",
    "    \n",
    "    i = 1\n",
    "    while i < dim:\n",
    "        d[i] = (i+1.)/i\n",
    "        i+=1\n",
    "    j = 0    \n",
    "    while j <= dim:\n",
    "        b[j] = 100*np.exp(-10*j*h)*h**2\n",
    "        j+=1\n",
    "    \n",
    "    for i in range(2,dim):\n",
    "        b[i] = b[i] + (b[i-1]/d[i-1])\n",
    "        \n",
    "    sol[dim-1] = b[dim-1]/d[dim-1]\n",
    "    \n",
    "    for j in range(dim-2,0,-1):\n",
    "        sol[j] = (b[j]+sol[j+1])/d[j]\n",
    "        \n",
    "    return sol"
   ]
  },
  {
   "cell_type": "code",
   "execution_count": 9,
   "metadata": {},
   "outputs": [
    {
     "data": {
      "text/plain": [
       "array([ 0.        ,  0.48991353,  0.61194761,  0.59864642,  0.53555815,\n",
       "        0.45415425,  0.3660124 ,  0.27539179,  0.18385931,  0.09199136,  0.        ])"
      ]
     },
     "execution_count": 9,
     "metadata": {},
     "output_type": "execute_result"
    }
   ],
   "source": [
    "tridag(10)"
   ]
  },
  {
   "cell_type": "code",
   "execution_count": 10,
   "metadata": {},
   "outputs": [
    {
     "name": "stdout",
     "output_type": "stream",
     "text": [
      "10000 loops, best of 3: 35.5 µs per loop\n"
     ]
    }
   ],
   "source": [
    "%timeit tridag(10)"
   ]
  },
  {
   "cell_type": "code",
   "execution_count": 11,
   "metadata": {},
   "outputs": [
    {
     "name": "stdout",
     "output_type": "stream",
     "text": [
      "1000 loops, best of 3: 279 µs per loop\n"
     ]
    }
   ],
   "source": [
    "%timeit tridag(100)"
   ]
  },
  {
   "cell_type": "code",
   "execution_count": 12,
   "metadata": {
    "scrolled": true
   },
   "outputs": [
    {
     "name": "stdout",
     "output_type": "stream",
     "text": [
      "100 loops, best of 3: 2.75 ms per loop\n"
     ]
    }
   ],
   "source": [
    "%timeit tridag(1000)"
   ]
  },
  {
   "cell_type": "code",
   "execution_count": 13,
   "metadata": {},
   "outputs": [
    {
     "name": "stdout",
     "output_type": "stream",
     "text": [
      "10 loops, best of 3: 31.4 ms per loop\n"
     ]
    }
   ],
   "source": [
    "%timeit tridag(10000)"
   ]
  },
  {
   "cell_type": "code",
   "execution_count": 14,
   "metadata": {},
   "outputs": [],
   "source": [
    "@njit(parallel = True)\n",
    "def tridag_numba(n):\n",
    "    dim = n\n",
    "    h = 1/dim\n",
    "    d = np.ones(dim+1)\n",
    "    b = np.ones(dim+1)\n",
    "    sol = np.ones(dim+1)\n",
    "    x = np.ones(dim+1)\n",
    "    d[0]=2\n",
    "    d[dim]=2\n",
    "    sol[0]=0\n",
    "    sol[dim]=0\n",
    "    \n",
    "    i = 1\n",
    "    while i < dim:\n",
    "        d[i] = (i+1.)/i\n",
    "        i+=1\n",
    "    j = 0    \n",
    "    while j <= dim:\n",
    "        x[j] = j*h\n",
    "        b[j] = 100*np.exp(-10*x[j])*h**2\n",
    "        j+=1\n",
    "    \n",
    "    for i in prange(2,dim):\n",
    "        b[i] = b[i] + (b[i-1]/d[i-1])\n",
    "    sol[dim-1] = b[dim-1]/d[dim-1]\n",
    "    for j in range(dim-2,0,-1):\n",
    "        sol[j] = (b[j]+sol[j+1])/d[j]\n",
    "        \n",
    "    return sol"
   ]
  },
  {
   "cell_type": "code",
   "execution_count": 15,
   "metadata": {},
   "outputs": [
    {
     "data": {
      "text/plain": [
       "array([ 0.        ,  0.48991353,  0.61194761,  0.59864642,  0.53555815,\n",
       "        0.45415425,  0.3660124 ,  0.27539179,  0.18385931,  0.09199136,  0.        ])"
      ]
     },
     "execution_count": 15,
     "metadata": {},
     "output_type": "execute_result"
    }
   ],
   "source": [
    "tridag_numba(10)"
   ]
  },
  {
   "cell_type": "code",
   "execution_count": 16,
   "metadata": {},
   "outputs": [
    {
     "name": "stdout",
     "output_type": "stream",
     "text": [
      "The slowest run took 4.79 times longer than the fastest. This could mean that an intermediate result is being cached.\n",
      "10000 loops, best of 3: 38.8 µs per loop\n"
     ]
    }
   ],
   "source": [
    "%timeit tridag_numba(10)"
   ]
  },
  {
   "cell_type": "code",
   "execution_count": 17,
   "metadata": {},
   "outputs": [
    {
     "name": "stdout",
     "output_type": "stream",
     "text": [
      "The slowest run took 5.29 times longer than the fastest. This could mean that an intermediate result is being cached.\n",
      "10000 loops, best of 3: 50.6 µs per loop\n"
     ]
    }
   ],
   "source": [
    "%timeit tridag_numba(100)"
   ]
  },
  {
   "cell_type": "code",
   "execution_count": 18,
   "metadata": {},
   "outputs": [
    {
     "name": "stdout",
     "output_type": "stream",
     "text": [
      "The slowest run took 8.08 times longer than the fastest. This could mean that an intermediate result is being cached.\n",
      "10000 loops, best of 3: 83.1 µs per loop\n"
     ]
    }
   ],
   "source": [
    "%timeit tridag_numba(1000)"
   ]
  },
  {
   "cell_type": "code",
   "execution_count": 19,
   "metadata": {},
   "outputs": [
    {
     "name": "stdout",
     "output_type": "stream",
     "text": [
      "The slowest run took 4.75 times longer than the fastest. This could mean that an intermediate result is being cached.\n",
      "1000 loops, best of 3: 308 µs per loop\n"
     ]
    }
   ],
   "source": [
    "%timeit tridag_numba(10000)"
   ]
  },
  {
   "cell_type": "code",
   "execution_count": 6,
   "metadata": {},
   "outputs": [],
   "source": [
    "size = [10,100,1000,10000]\n",
    "time_d = [54.7e-6,405e-6,38.1e-3,16.8]\n",
    "time_p = [35.5e-6,279e-6,2.75e-3,31.4e-3]\n",
    "time_n = [38.8e-6,50.6e-6,83.1e-6,308e-6]\n"
   ]
  },
  {
   "cell_type": "code",
   "execution_count": 11,
   "metadata": {},
   "outputs": [
    {
     "data": {
      "text/plain": [
       "<matplotlib.text.Text at 0x111204be0>"
      ]
     },
     "execution_count": 11,
     "metadata": {},
     "output_type": "execute_result"
    },
    {
     "data": {
      "image/png": "[encoded data removed]",
      "text/plain": [
       "<matplotlib.figure.Figure at 0x111237cc0>"
      ]
     },
     "metadata": {},
     "output_type": "display_data"
    }
   ],
   "source": [
    "plt.figure(figsize=(10,10))\n",
    "plt.loglog(size,time_d,label='Std Alg')\n",
    "plt.loglog(size,time_p,label='Our Alg')\n",
    "plt.loglog(size,time_n,label='Numba')\n",
    "plt.grid()\n",
    "plt.legend()\n",
    "plt.title('Speed Comparison',fontsize=18)\n",
    "plt.xlabel('Size of nxn matrix',fontsize=16)\n",
    "plt.ylabel('Time log(time/seconds)',fontsize=16)"
   ]
  },
  {
   "cell_type": "code",
   "execution_count": null,
   "metadata": {},
   "outputs": [],
   "source": []
  }
 ],
 "metadata": {
  "kernelspec": {
   "display_name": "Python 3",
   "language": "python",
   "name": "python3"
  },
  "language_info": {
   "codemirror_mode": {
    "name": "ipython",
    "version": 3
   },
   "file_extension": ".py",
   "mimetype": "text/x-python",
   "name": "python",
   "nbconvert_exporter": "python",
   "pygments_lexer": "ipython3",
   "version": "3.6.3"
  }
 },
 "nbformat": 4,
 "nbformat_minor": 2
}
